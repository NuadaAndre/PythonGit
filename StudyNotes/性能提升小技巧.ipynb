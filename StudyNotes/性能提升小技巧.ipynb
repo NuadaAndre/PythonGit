{
 "cells": [
  {
   "cell_type": "markdown",
   "metadata": {},
   "source": [
    "# 使用内建函数"
   ]
  },
  {
   "cell_type": "markdown",
   "metadata": {},
   "source": [
    "可以用Python写出高效的代码,但很难击败内建函数。"
   ]
  },
  {
   "cell_type": "markdown",
   "metadata": {},
   "source": [
    "# 使用 join() 连接字符串"
   ]
  },
  {
   "cell_type": "markdown",
   "metadata": {},
   "source": [
    "你可以使用“+”来连接字符串，但由于string在python中是不可变的，每一个“+”操作都会创建一个新的字符串并复制旧内容。常见用法是使用Python的数组模块单个的修改字符;当完成的时候,使用 ***join()*** 函数创建最终字符串"
   ]
  },
  {
   "cell_type": "markdown",
   "metadata": {},
   "source": [
    "# 使用Python多重赋值，交换变量"
   ]
  },
  {
   "cell_type": "code",
   "execution_count": 11,
   "metadata": {},
   "outputs": [
    {
     "name": "stdout",
     "output_type": "stream",
     "text": [
      "5 10\n"
     ]
    }
   ],
   "source": [
    "# 优雅又快速\n",
    "x=10\n",
    "y=5\n",
    "x,y=y,x\n",
    "print(x,y)"
   ]
  },
  {
   "cell_type": "code",
   "execution_count": 8,
   "metadata": {},
   "outputs": [
    {
     "name": "stdout",
     "output_type": "stream",
     "text": [
      "10 5\n"
     ]
    }
   ],
   "source": [
    "# 慢\n",
    "temp=x\n",
    "x=y\n",
    "y=temp\n",
    "print(x,y)"
   ]
  },
  {
   "cell_type": "markdown",
   "metadata": {},
   "source": [
    "# 尽量使用局部变量"
   ]
  },
  {
   "cell_type": "markdown",
   "metadata": {},
   "source": [
    "Python 检索局部变量比检索全局变量快. 这意味着,避免 \"global\" 关键字。"
   ]
  },
  {
   "cell_type": "markdown",
   "metadata": {},
   "source": [
    "# 尽量使用 ***in***"
   ]
  },
  {
   "cell_type": "code",
   "execution_count": 13,
   "metadata": {},
   "outputs": [
    {
     "name": "stdout",
     "output_type": "stream",
     "text": [
      "found\n",
      "found\n",
      "found\n",
      "found\n"
     ]
    }
   ],
   "source": [
    "# 简洁而快速\n",
    "sequence=[1,2,3,4]\n",
    "for key in sequence:\n",
    "    print(\"found\")"
   ]
  },
  {
   "cell_type": "markdown",
   "metadata": {},
   "source": [
    "# 使用延迟加载加速"
   ]
  },
  {
   "cell_type": "markdown",
   "metadata": {},
   "source": [
    "将 ***import*** 声明移入函数中,仅在需要的时候导入。换句话说，如果某些模块不需马上使用，稍后导入他们。例如，你不必在一开使就导入大量模块而加速程序启动。该技术不能提高整体性能。但它可以帮助你更均衡的分配模块的加载时间。*（这样就会将模块导入部分分散，不能一眼看出一个脚本导入了那些模块）*"
   ]
  },
  {
   "cell_type": "markdown",
   "metadata": {},
   "source": [
    "# 为无限循环使用 ***while 1***"
   ]
  },
  {
   "cell_type": "markdown",
   "metadata": {},
   "source": [
    "有时候在程序中你需一个无限循环.(例如一个监听套接字的实例) 尽管 **while True:**能完成同样的事，但 ***while 1*** 是单步运算。这招能提高你的Python性能。"
   ]
  },
  {
   "cell_type": "code",
   "execution_count": 14,
   "metadata": {},
   "outputs": [],
   "source": [
    "# faster\n",
    "# while 1:\n",
    "# slower\n",
    "# while True:"
   ]
  },
  {
   "cell_type": "markdown",
   "metadata": {},
   "source": [
    "# 使用list comprehension(列表推导式)"
   ]
  },
  {
   "cell_type": "markdown",
   "metadata": {},
   "source": [
    "使用list comprehension 取代大量的 *for* 和 *while* 块。使用List comprehension通常更快，Python解析器能在循环中发现它是一个可预测的模式而被优化。额外好处是，list comprehension更具可读性（函数式编程），并在大多数情况下，它可以节省一个额外的计数变量。"
   ]
  },
  {
   "cell_type": "code",
   "execution_count": 16,
   "metadata": {},
   "outputs": [
    {
     "name": "stdout",
     "output_type": "stream",
     "text": [
      "{1: 1, 2: 4, 3: 9, 4: 16, 5: 25, 6: 36, 7: 49, 8: 64, 9: 81}\n",
      "[(5, 9), (7, 9), (9, 9)]\n",
      "[1, 2, 3, 2, 4, 6, 3, 6, 9]\n"
     ]
    }
   ],
   "source": [
    "print(dict([(x,x**2) for x in range(1,10)]))\n",
    "print([ (x,y) for x in range(10) if x%2 if x>3 for y in range(10) if y>7 if y!=8 ])\n",
    "print([x*y for x in [1,2,3] for y in [1,2,3]])"
   ]
  },
  {
   "cell_type": "markdown",
   "metadata": {},
   "source": [
    "# 使用 Python generator(生成器)"
   ]
  },
  {
   "cell_type": "markdown",
   "metadata": {},
   "source": [
    "这可以节省内存和提高性能。例如一个视频流，你可以一个一个字节块的发送，而不是整个流。"
   ]
  },
  {
   "cell_type": "code",
   "execution_count": 17,
   "metadata": {},
   "outputs": [
    {
     "data": {
      "text/plain": [
       "<generator object <genexpr> at 0x000001F409A61D58>"
      ]
     },
     "execution_count": 17,
     "metadata": {},
     "output_type": "execute_result"
    }
   ],
   "source": [
    "chunk=(1000*i for i in range(1000))\n",
    "chunk"
   ]
  },
  {
   "cell_type": "code",
   "execution_count": 21,
   "metadata": {},
   "outputs": [
    {
     "data": {
      "text/plain": [
       "0"
      ]
     },
     "execution_count": 21,
     "metadata": {},
     "output_type": "execute_result"
    }
   ],
   "source": [
    "next(chunk)"
   ]
  },
  {
   "cell_type": "code",
   "execution_count": 22,
   "metadata": {},
   "outputs": [
    {
     "data": {
      "text/plain": [
       "1000"
      ]
     },
     "execution_count": 22,
     "metadata": {},
     "output_type": "execute_result"
    }
   ],
   "source": [
    "next(chunk)"
   ]
  },
  {
   "cell_type": "code",
   "execution_count": 23,
   "metadata": {},
   "outputs": [
    {
     "data": {
      "text/plain": [
       "2000"
      ]
     },
     "execution_count": 23,
     "metadata": {},
     "output_type": "execute_result"
    }
   ],
   "source": [
    "next(chunk)"
   ]
  },
  {
   "cell_type": "markdown",
   "metadata": {},
   "source": [
    "# 了解itertools模块"
   ]
  },
  {
   "cell_type": "markdown",
   "metadata": {},
   "source": [
    "该模块对迭代和组合是非常有效的。"
   ]
  },
  {
   "cell_type": "code",
   "execution_count": 24,
   "metadata": {},
   "outputs": [
    {
     "data": {
      "text/plain": [
       "[(1, 2, 3), (1, 3, 2), (2, 1, 3), (2, 3, 1), (3, 1, 2), (3, 2, 1)]"
      ]
     },
     "execution_count": 24,
     "metadata": {},
     "output_type": "execute_result"
    }
   ],
   "source": [
    "# 生成一个列表[1,2,3]的所有排列组合\n",
    "import itertools\n",
    "iter=itertools.permutations([1,2,3])\n",
    "list(iter)"
   ]
  },
  {
   "cell_type": "markdown",
   "metadata": {},
   "source": [
    "# 学习bisect模块保持列表排序"
   ]
  },
  {
   "cell_type": "markdown",
   "metadata": {},
   "source": [
    "二分查找实现和快速插入有序序列的工具"
   ]
  },
  {
   "cell_type": "code",
   "execution_count": 31,
   "metadata": {},
   "outputs": [],
   "source": [
    "import bisect\n",
    "list=[1,3,4,5,7,8,9]\n",
    "element=2\n",
    "bisect.insort(list, element)"
   ]
  },
  {
   "cell_type": "code",
   "execution_count": 32,
   "metadata": {},
   "outputs": [
    {
     "data": {
      "text/plain": [
       "[1, 2, 3, 4, 5, 7, 8, 9]"
      ]
     },
     "execution_count": 32,
     "metadata": {},
     "output_type": "execute_result"
    }
   ],
   "source": [
    "list"
   ]
  },
  {
   "cell_type": "markdown",
   "metadata": {},
   "source": [
    "你已將一个元素插入列表中, 而你不需要再次调用sort()来保持容器的排序, 因为这在长序列中这会非常昂贵。"
   ]
  },
  {
   "cell_type": "markdown",
   "metadata": {},
   "source": [
    "# 理解Python列表，实际上是一个数组"
   ]
  },
  {
   "cell_type": "markdown",
   "metadata": {},
   "source": [
    "Python中的列表实现并不是以普通单链表实现的。Python中的列表是一个数组。也就是说，你可以以常量时间 O(1) 检索列表的某个元素，而不需要从头开始搜索。这有什么意义呢？ Python开发人员使用列表对象 insert() 时, 需三思。"
   ]
  },
  {
   "cell_type": "code",
   "execution_count": 33,
   "metadata": {},
   "outputs": [],
   "source": [
    "list=[1,3,4,5,7,8,9]\n",
    "list.insert(0,6)"
   ]
  },
  {
   "cell_type": "code",
   "execution_count": 34,
   "metadata": {},
   "outputs": [
    {
     "data": {
      "text/plain": [
       "[6, 1, 3, 4, 5, 7, 8, 9]"
      ]
     },
     "execution_count": 34,
     "metadata": {},
     "output_type": "execute_result"
    }
   ],
   "source": [
    "list"
   ]
  },
  {
   "cell_type": "markdown",
   "metadata": {},
   "source": [
    "在列表的前面插入一个元素效率不高, 因为列表中的所有后续下标不得不改变。然而，您可以使用 list.append()在列表的尾端有效添加元素。"
   ]
  },
  {
   "cell_type": "markdown",
   "metadata": {},
   "source": [
    "**挑选deque,如果你想快速的在两端插入或删除。它是快速的，因为在python中的deque用双链表实现**"
   ]
  },
  {
   "cell_type": "markdown",
   "metadata": {},
   "source": [
    "# 使用 dict 和 set 测试成员"
   ]
  },
  {
   "cell_type": "markdown",
   "metadata": {},
   "source": [
    "检查一个元素是在dictionary或set是否存在，这在python中非常快。这是因为dict和set使用***散列表***来实现。查找效率可以达到O(1)。因此如果你需要**经常检查**成员，**使用set或dict**作为你的容器"
   ]
  },
  {
   "cell_type": "code",
   "execution_count": 35,
   "metadata": {},
   "outputs": [],
   "source": [
    "myset=set(['a','b','c'])"
   ]
  },
  {
   "cell_type": "code",
   "execution_count": 38,
   "metadata": {},
   "outputs": [
    {
     "data": {
      "text/plain": [
       "True"
      ]
     },
     "execution_count": 38,
     "metadata": {},
     "output_type": "execute_result"
    }
   ],
   "source": [
    "'c' in myset #faster"
   ]
  },
  {
   "cell_type": "code",
   "execution_count": 39,
   "metadata": {},
   "outputs": [],
   "source": [
    "mylist=['a','b','c']"
   ]
  },
  {
   "cell_type": "code",
   "execution_count": 41,
   "metadata": {},
   "outputs": [
    {
     "data": {
      "text/plain": [
       "True"
      ]
     },
     "execution_count": 41,
     "metadata": {},
     "output_type": "execute_result"
    }
   ],
   "source": [
    "'c' in mylist #slower"
   ]
  },
  {
   "cell_type": "markdown",
   "metadata": {},
   "source": [
    "# 使用Schwartzian Transform 的 ***sort()***"
   ]
  },
  {
   "cell_type": "markdown",
   "metadata": {},
   "source": [
    "原生的 list.sort() 函数是非常快的。Python会按自然顺序排序列表。有时，你需要非自然顺序的排序。例如，你要根据服务器位置排序的IP地址。Python支持自定义的比较，你可以使用 list.sort(CMP()) ，这会比 list.sort() 慢，因为增加了函数调用的开销。如果性能有问题，你可以申请Guttman-Rosler Transform,基于Schwartzian Transfor。它只对实际的要用的算法有兴趣，它的简要工作原理是，你可以变换列表，并调用Python内置 list.sort() -> 更快，而无需使用 list.sort(CMP()) -> 慢。"
   ]
  },
  {
   "cell_type": "markdown",
   "metadata": {},
   "source": [
    "# python装饰器缓存结果"
   ]
  },
  {
   "cell_type": "markdown",
   "metadata": {},
   "source": [
    "**@**符号是python的装饰语法。它不只用于追查，锁或日志。你可以修饰一个python函数，记住调用结果供后续使用，这种技术被称为**memoization**"
   ]
  },
  {
   "cell_type": "code",
   "execution_count": 42,
   "metadata": {},
   "outputs": [],
   "source": [
    "from functools import wraps\n",
    "def memo(f):\n",
    "    cache={ }\n",
    "    @wraps(f)\n",
    "    def wrap(*arg):\n",
    "        if arg not in cache:\n",
    "            cache['arg']=f(*arg)\n",
    "        return cache['arg']\n",
    "    return wrap"
   ]
  },
  {
   "cell_type": "markdown",
   "metadata": {},
   "source": [
    "对 Fibonacci 函数使用装饰器"
   ]
  },
  {
   "cell_type": "code",
   "execution_count": 43,
   "metadata": {},
   "outputs": [],
   "source": [
    "@memo\n",
    "def fib(i):\n",
    "    if i<2:\n",
    "        return 1\n",
    "    return fib(i-1)+fib(i-2)"
   ]
  },
  {
   "cell_type": "markdown",
   "metadata": {},
   "source": [
    "这里的关键思想是:***增强函数(装饰)函数,记住每个已经计算的Fibonacci值;如果它们在缓存中,就不需要再计算了***"
   ]
  },
  {
   "cell_type": "markdown",
   "metadata": {},
   "source": [
    "# 理解python的GIL(全局解释器锁)"
   ]
  },
  {
   "cell_type": "markdown",
   "metadata": {},
   "source": [
    "GIL是必要的，因为***CPython的内存管理是非线程安全***的。你不能简单地创建多个线程，并希望Python能在多核心的机器上运行得更快。这是因为**GIL將会防止多个原生线程同时执行Python字节码**。换句话说，***GIL將序列化您的所有线程***。然而，您可以使用线程管理多个派生进程加速程序，这些程序独立的运行于你的Python代码外。"
   ]
  },
  {
   "cell_type": "markdown",
   "metadata": {},
   "source": [
    "# 像熟悉文档一样的熟悉Python源代码"
   ]
  },
  {
   "cell_type": "markdown",
   "metadata": {},
   "source": [
    "Python有些模块为了性能使用C实现。当性能至关重要而官方文档不足时，可以自由探索源代码。你可以找到底层的数据结构和算法。 "
   ]
  },
  {
   "cell_type": "markdown",
   "metadata": {},
   "source": [
    "# **有益的提醒**\n",
    "静态编译的代码仍然重要. 仅例举几例, Chrome,Firefox,MySQL,MS Office 和 Photoshop都是高度优化的软件,我们每天都在使用. Python作为解析语言,很明显不适合。**不能单靠Python来满足那些性能是首要指示的领域。**这就是为什么Python支持让你接触底层裸机基础设施的原因, 将更繁重的工作代理给更快的语言如C. 这高性能计算和嵌入式编程中是关键的功能. ***Python性能鸡汤第一部分讨论了怎样高效的使用Python. 在第二部分, 我们將涉及监控和扩展Python.***"
   ]
  },
  {
   "cell_type": "markdown",
   "metadata": {},
   "source": [
    "# 拒绝调优诱惑"
   ]
  },
  {
   "cell_type": "markdown",
   "metadata": {},
   "source": [
    "调优给你的代码增加复杂性. 集成其它语言之前, 请检查下面的列表. 如果你的算法是\"足够好\", 优化就没那么迫切了\n",
    "\n",
    "1.你做了性能测试报告吗?\n",
    "\n",
    "2.你能减少硬盘的 I/O 访问吗?\n",
    "\n",
    "3.你能减少网络 I/O 访问吗?\n",
    "\n",
    "4.你能升级硬件吗?\n",
    "\n",
    "5.你是为其它开发者编译库吗?\n",
    "\n",
    "6.你的第三方库软件是最新版吗?"
   ]
  },
  {
   "cell_type": "markdown",
   "metadata": {},
   "source": [
    "# ***使用工具监控代码, 而不是直觉***"
   ]
  },
  {
   "cell_type": "markdown",
   "metadata": {},
   "source": [
    "速度的问题可能很微妙, 所以不要依赖于直觉. 感谢 *cprofiles* 模块, 通过简单的运行你就可以监控Python代码"
   ]
  },
  {
   "cell_type": "markdown",
   "metadata": {},
   "source": [
    "我们写了个测试程序. 基于黑盒监控. 这里的瓶颈是 very_slow() 函数调用。我们还可以看到 fast() 和 slow() 都被调用200次。这意味着, 如果我们可以改善 fast() 和 slow() 函数, 我们可以获得全面的性能提升。cprofiles 模块也可以在运行时导入。这对于检查长时间运行的进程非常有用。"
   ]
  },
  {
   "cell_type": "code",
   "execution_count": 49,
   "metadata": {},
   "outputs": [],
   "source": [
    "import cProfile\n",
    "import time\n",
    "def fast():\n",
    "    time.sleep(0.001)\n",
    "def slow():\n",
    "    time.sleep(0.01)\n",
    "def very_slow():\n",
    "    for i in range(100):\n",
    "        fast()\n",
    "        slow()\n",
    "    time.sleep(0.1)\n",
    "def main():\n",
    "    very_slow()\n",
    "    very_slow()\n",
    "\n",
    "if __name__=='__main__':\n",
    "    main()"
   ]
  },
  {
   "cell_type": "markdown",
   "metadata": {},
   "source": [
    "# 审查时间复杂度"
   ]
  },
  {
   "cell_type": "markdown",
   "metadata": {},
   "source": [
    "控制以后, 提供一个基本的算法性能分析. 恒定时间是理想值. 对数时间复度是稳定的. 阶乘复杂度很难扩展"
   ]
  },
  {
   "cell_type": "markdown",
   "metadata": {},
   "source": [
    "***O(1) -> O(lg n) -> O(n) -> O(n×lgn) -> O(n^2) -> O(n^3) -> O(n^k) -> O(k^n) -O(n!)***"
   ]
  },
  {
   "cell_type": "markdown",
   "metadata": {},
   "source": [
    "# 使用第三方包"
   ]
  },
  {
   "cell_type": "markdown",
   "metadata": {},
   "source": [
    "有很多为Python设计的高性能的第三方库和工具. 下面是一些有用的加速包的简短列表.\n",
    "\n",
    "1.NumPy: 一个开源的相当于MatLab的包\n",
    "\n",
    "2.SciPy: 另一个数值处理库\n",
    "\n",
    "3.GPULib: 使用GPUs加速代码\n",
    "\n",
    "4.PyPy: 使用 just-in-time 编译器优化Python代码\n",
    "\n",
    "5.Cython: 將Python代码转成C\n",
    "\n",
    "6.ShedSkin: 將Python代码转成C++"
   ]
  },
  {
   "cell_type": "markdown",
   "metadata": {},
   "source": [
    "# 使用 multiprocessing 模块实现真正的并发"
   ]
  },
  {
   "cell_type": "markdown",
   "metadata": {},
   "source": [
    "因为GIL会序列化线程, Python中的多线程不能在多核机器和集群中加速. 因此Python提供了 multiprocessing 模块, 可以派生额外的进程代替线程, 跳出GIL的限制. 此外, 你也可以在外部C代码中结合该建议, 使得程序更快。"
   ]
  },
  {
   "cell_type": "markdown",
   "metadata": {},
   "source": [
    "**注意**: 进程的开销通常比线程昂贵, 因为***线程自动共享内存地址空间和文件描述符***。意味着, 创建进程比创建线程会花费更多, 也可能花费更多内存。这点在你计算使用多处理器时要牢记."
   ]
  },
  {
   "cell_type": "markdown",
   "metadata": {},
   "source": [
    "我希望这些Python建议能让你成为一个更好的开发者. 最后, 我需要指出, 追求性能极限是一个有趣的游戏, 而过度优化就会变成嘲弄了. 虽然Python授予你与C接口无缝集成的能力, 你必须问自己你花数小时的艰辛优化工作用户是否买帐. 另一方面, ***牺牲代码的可维护性换取几毫秒的提升是否值得.*** 团队中的成员常常会感谢你编写了**简洁的代码**. 尽量贴近Python的方式, 因为人生苦短"
   ]
  }
 ],
 "metadata": {
  "kernelspec": {
   "display_name": "Python 3",
   "language": "python",
   "name": "python3"
  },
  "language_info": {
   "codemirror_mode": {
    "name": "ipython",
    "version": 3
   },
   "file_extension": ".py",
   "mimetype": "text/x-python",
   "name": "python",
   "nbconvert_exporter": "python",
   "pygments_lexer": "ipython3",
   "version": "3.6.5"
  },
  "toc": {
   "base_numbering": 1,
   "nav_menu": {},
   "number_sections": true,
   "sideBar": true,
   "skip_h1_title": false,
   "title_cell": "Table of Contents",
   "title_sidebar": "Contents",
   "toc_cell": false,
   "toc_position": {},
   "toc_section_display": true,
   "toc_window_display": false
  }
 },
 "nbformat": 4,
 "nbformat_minor": 2
}

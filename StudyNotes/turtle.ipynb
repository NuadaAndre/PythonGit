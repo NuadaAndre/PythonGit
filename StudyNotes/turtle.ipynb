{
 "cells": [
  {
   "cell_type": "code",
   "execution_count": 1,
   "metadata": {},
   "outputs": [],
   "source": [
    "import turtle\n",
    "from turtle import *"
   ]
  },
  {
   "cell_type": "markdown",
   "metadata": {},
   "source": [
    "# 绘图窗口"
   ]
  },
  {
   "cell_type": "code",
   "execution_count": null,
   "metadata": {},
   "outputs": [],
   "source": [
    "ljy = turtle.Turtle() #生成绘图窗口ljy"
   ]
  },
  {
   "cell_type": "code",
   "execution_count": null,
   "metadata": {},
   "outputs": [],
   "source": [
    "turtle.Title('领导专用程序') #设置绘图窗口标题为《领导专用程序》"
   ]
  },
  {
   "cell_type": "code",
   "execution_count": null,
   "metadata": {},
   "outputs": [],
   "source": [
    "turtle.getscreen().bgcolor('red') #设置绘图窗口lv的背景色"
   ]
  },
  {
   "cell_type": "markdown",
   "metadata": {},
   "source": [
    "# 设置画布大小\n",
    "\n",
    "turtle.screensize(canvwidth=None, canvheight=None, bg=None)\n",
    "\n",
    "参数分别为画布的宽(单位像素), 高, 背景颜色"
   ]
  },
  {
   "cell_type": "code",
   "execution_count": 2,
   "metadata": {},
   "outputs": [],
   "source": [
    "turtle.screensize(800, 600, \"green\")"
   ]
  },
  {
   "cell_type": "markdown",
   "metadata": {},
   "source": [
    "turtle.setup(width=0.5, height=0.75, startx=None, starty=None)\n",
    "\n",
    "width, height: 输入宽和高为整数时, 表示像素; 为小数时, 表示占据电脑屏幕的比例\n",
    "\n",
    "(startx, starty): 这一坐标表示 矩形窗口左上角顶点的位置, 如果为空,则窗口位于屏幕中心"
   ]
  },
  {
   "cell_type": "code",
   "execution_count": 3,
   "metadata": {},
   "outputs": [],
   "source": [
    "turtle.setup(width=0.6, height=0.6)\n",
    "turtle.setup(width=800, height=800, startx=100, starty=100)"
   ]
  },
  {
   "cell_type": "markdown",
   "metadata": {},
   "source": [
    "# 画笔的属性\n",
    "\n",
    "1) turtle.pensize()：设置画笔的宽度；\n",
    "\n",
    "2) turtle.pencolor(); 没有参数传入,返回当前画笔颜色,传入参数设置画笔颜色,可以是字符串如\"green\", \"red\",也可以是RGB \n",
    "\n",
    "3) turtle.speed(speed): 设置画笔移动速度,画笔绘制的速度范围[0,10]整数, 数字越小越快;速度0表示没有绘制过程动画，直接显示结果图形"
   ]
  },
  {
   "cell_type": "markdown",
   "metadata": {},
   "source": [
    "# 绘图命令"
   ]
  },
  {
   "cell_type": "markdown",
   "metadata": {},
   "source": [
    "## 画笔运动命令\n",
    "\n",
    "|命令|说明|\n",
    "|---|---|\n",
    "|turtle.forward(distance)\t|向当前画笔方向移动distance像素长|\n",
    "|turtle.backward(distance)\t|向当前画笔相反方向移动distance像素长度|\n",
    "|turtle.right(degree)\t|顺时针移动degree°|\n",
    "|turtle.left(degree)\t|逆时针移动degree°|\n",
    "|turtle.pendown()/turtle.down()\t|移动时绘制图形,缺省时也为绘制|\n",
    "|turtle.goto(x,y)\t|将画笔移动到坐标为x,y的位置|\n",
    "|turtle.penup()/turtle.up()|移动时不绘制图形,提起笔，用于另起一个地方绘制时用|\n",
    "|turtle.speed(speed)\t|画笔绘制的速度范围[0,10]整数|\n",
    "|turtle.circle(radius, extent=None, steps=None)\t|画圆,半径为正(负),表示圆心在画笔的左边(右边)画圆;如果画弧线，则extent给定弧线的角度。如果画多边形，则steps给定整圆几条边|\n",
    "|turtle.position() |返回画笔当前所在的坐标|\n",
    "|turtle.heading() |返回画笔脑袋朝向|\n",
    "|turtle.write(\"内容\",font=(\"字体\",字号,\"类型\",align=\"对齐方式\")|写字|\n",
    "\n",
    "## 画笔控制命令:\n",
    "\n",
    "|命令\t|说明|\n",
    "|---|---|\n",
    "|turtle.pensize(width)\t|绘制图形时的宽度|\n",
    "|turtle.pencolor()\t|画笔颜色|\n",
    "|turtle.fillcolor(colorstring)\t|绘制图形的填充颜色|\n",
    "|turtle.color(color1, color2)\t|同时设置pencolor=color1, fillcolor=color2|\n",
    "|turtle.filling()\t|返回当前是否在填充状态|\n",
    "|turtle.begin_fill()\t|准备开始填充图形|\n",
    "|turtle.end_fill()\t|填充完成；|\n",
    "|turtle.hideturtle()\t|隐藏箭头显示；|\n",
    "|turtle.showturtle()\t|与hideturtle()函数对应|\n",
    "\n",
    "## 全局控制命令\n",
    "\n",
    "|命令\t|说明|\n",
    "|---|---|\n",
    "|turtle.clear()\t|清空turtle窗口，但是turtle的位置和状态不会改变|\n",
    "|turtle.reset()\t|清空窗口，重置turtle状态为起始状态|\n",
    "|turtle.undo()\t|撤销上一个turtle动作|\n",
    "|turtle.isvisible()\t|返回当前turtle是否可见|\n",
    "|stamp()\t|复制当前图形|"
   ]
  }
 ],
 "metadata": {
  "kernelspec": {
   "display_name": "Python 3",
   "language": "python",
   "name": "python3"
  },
  "language_info": {
   "codemirror_mode": {
    "name": "ipython",
    "version": 3
   },
   "file_extension": ".py",
   "mimetype": "text/x-python",
   "name": "python",
   "nbconvert_exporter": "python",
   "pygments_lexer": "ipython3",
   "version": "3.6.5"
  },
  "toc": {
   "base_numbering": 1,
   "nav_menu": {},
   "number_sections": true,
   "sideBar": true,
   "skip_h1_title": false,
   "title_cell": "Table of Contents",
   "title_sidebar": "Contents",
   "toc_cell": false,
   "toc_position": {},
   "toc_section_display": true,
   "toc_window_display": false
  }
 },
 "nbformat": 4,
 "nbformat_minor": 2
}

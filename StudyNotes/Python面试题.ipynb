{
 "cells": [
  {
   "cell_type": "markdown",
   "metadata": {},
   "source": [
    "# python语言特性"
   ]
  },
  {
   "cell_type": "markdown",
   "metadata": {},
   "source": [
    "## Python的函数参数传递"
   ]
  },
  {
   "cell_type": "code",
   "execution_count": 1,
   "metadata": {},
   "outputs": [
    {
     "name": "stdout",
     "output_type": "stream",
     "text": [
      "1\n"
     ]
    }
   ],
   "source": [
    "a=1\n",
    "def fun(a):\n",
    "    a=2\n",
    "fun(a)\n",
    "print(a)"
   ]
  },
  {
   "cell_type": "code",
   "execution_count": 2,
   "metadata": {},
   "outputs": [
    {
     "name": "stdout",
     "output_type": "stream",
     "text": [
      "[1]\n"
     ]
    }
   ],
   "source": [
    "a=[]\n",
    "def fun(a):\n",
    "    a.append(1)\n",
    "fun(a)\n",
    "print(a)"
   ]
  },
  {
   "cell_type": "markdown",
   "metadata": {},
   "source": [
    "所有的变量都可以理解是内存中一个对象的“引用”。**类型是属于对象**的，而不是变量。而对象有两种,“可更改”（mutable）与“不可更改”（immutable）对象。在**python中，strings, tuples, 和numbers是不可更改的对象**，而**list,dict等则是可以修改的对象**。(这就是这个问题的重点)当一个引用传递给函数的时候,函数自动复制一份引用,这个函数里的引用和外边的引用没有半毛关系了.所以第一个例子里函数把引用指向了一个不可变对象,当函数返回的时候,外面的引用没半毛感觉.而第二个例子就不一样了,**函数内的引用指向的是可变对象,对它的操作就和定位了指针地址一样,在内存里进行修改。**"
   ]
  },
  {
   "cell_type": "markdown",
   "metadata": {},
   "source": [
    "## python中的元类(metaclass)\n",
    "\n",
    "元类就是用来创建类的“东西”。你创建类就是为了创建类的实例对象，***Python中的类也是对象***。元类就是用来创建这些类（对象）的，元类就是类的类。"
   ]
  },
  {
   "cell_type": "markdown",
   "metadata": {},
   "source": [
    "## @staticmethod和@classmethod\n",
    "\n",
    "Python其实有3个方法,即**静态方法(staticmethod),类方法(classmethod)和实例方法**"
   ]
  },
  {
   "cell_type": "code",
   "execution_count": 8,
   "metadata": {},
   "outputs": [],
   "source": [
    "class A(object):\n",
    "    def foo(self,x):\n",
    "        print(\"executing foo(%s,%s)\" %(self,x))\n",
    "    @classmethod\n",
    "    def class_foo(cls,x):\n",
    "        print(\"executing class_foo(%s,%s)\" %(cls,x))\n",
    "    @staticmethod\n",
    "    def static_foo(x):\n",
    "        print(\"executing static_foo(%s)\" %x)\n",
    "a=A()"
   ]
  },
  {
   "cell_type": "markdown",
   "metadata": {},
   "source": [
    "先理解下***函数参数里面的self和cls是对类或者实例的绑定***.对于**实例方法,在类里每次定义方法的时候都需要绑定这个实例,就是foo(self, x),因为实例方法的调用离不开实例,我们需要把实例自己传给函数,调用的时候是这样的a.foo(x)(其实是foo(a, x))**.类方法一样,只不过它传递的是类而不是实例,A.class_foo(x).注意这里的self和cls可以替换别的参数,但是python的约定是这俩,还是不要改的好。对于**静态方法**其实和普通的方法一样,不需要对谁进行绑定,唯一的区别是**调用的时候需要使用a.static_foo(x)或者A.static_foo(x)**来调用。"
   ]
  },
  {
   "cell_type": "markdown",
   "metadata": {},
   "source": [
    "|\\|实例方法|类方法|静态方法|\n",
    "|---|---|---|---|\n",
    "|a=A()|a.foo(x)|a.class_foo(x)|a.static_foo(x)|\n",
    "|A|不可用|A.class_foo(x)|A.static_foo(x)|"
   ]
  },
  {
   "cell_type": "markdown",
   "metadata": {},
   "source": [
    "## 类变量和实例变量"
   ]
  },
  {
   "cell_type": "code",
   "execution_count": 11,
   "metadata": {},
   "outputs": [
    {
     "name": "stdout",
     "output_type": "stream",
     "text": [
      "bbb\n",
      "aaa\n",
      "aaa\n"
     ]
    }
   ],
   "source": [
    "class Person:\n",
    "    name=\"aaa\"\n",
    "p1=Person()\n",
    "p2=Person()\n",
    "p1.name=\"bbb\"\n",
    "print(p1.name)\n",
    "print(p2.name)\n",
    "print(Person.name)"
   ]
  },
  {
   "cell_type": "markdown",
   "metadata": {},
   "source": [
    "类变量就是供类使用的变量,实例变量就是供实例使用的。\n",
    "\n",
    "p1.name=\"bbb\"是实例调用了类变量,这是函数传参的问题,p1.name一开始是指向的类变量name=\"aaa\",但是在实例的作用域里把类变量的引用改变了,就变成了一个实例变量,self.name不再引用Person的类变量name了."
   ]
  },
  {
   "cell_type": "code",
   "execution_count": 12,
   "metadata": {},
   "outputs": [
    {
     "name": "stdout",
     "output_type": "stream",
     "text": [
      "[1]\n",
      "[1]\n",
      "[1]\n"
     ]
    }
   ],
   "source": [
    "class Person:\n",
    "    name=[]\n",
    "p1=Person()\n",
    "p2=Person()\n",
    "p1.name.append(1)\n",
    "print(p1.name)\n",
    "print(p2.name)\n",
    "print(Person.name)"
   ]
  },
  {
   "cell_type": "markdown",
   "metadata": {},
   "source": [
    "## python自省\n",
    "\n",
    "自省就是面向对象的语言所写的程序在运行时,所能知道对象的类型.就是运行时能够获得对象的类型.比如*type(),dir(),getattr(),hasattr(),isinstance().*"
   ]
  },
  {
   "cell_type": "markdown",
   "metadata": {},
   "source": [
    "## 字典推导式"
   ]
  },
  {
   "cell_type": "code",
   "execution_count": null,
   "metadata": {},
   "outputs": [],
   "source": [
    "d={key:value for (key,value) in iterable}"
   ]
  },
  {
   "cell_type": "markdown",
   "metadata": {},
   "source": [
    "## python中单下划线和双下划线"
   ]
  },
  {
   "cell_type": "code",
   "execution_count": 13,
   "metadata": {},
   "outputs": [
    {
     "ename": "AttributeError",
     "evalue": "'MyClass' object has no attribute '__superprivate'",
     "output_type": "error",
     "traceback": [
      "\u001b[1;31m---------------------------------------------------------------------------\u001b[0m",
      "\u001b[1;31mAttributeError\u001b[0m                            Traceback (most recent call last)",
      "\u001b[1;32m<ipython-input-13-2fba2146efab>\u001b[0m in \u001b[0;36m<module>\u001b[1;34m()\u001b[0m\n\u001b[0;32m      5\u001b[0m \u001b[1;33m\u001b[0m\u001b[0m\n\u001b[0;32m      6\u001b[0m \u001b[0mmc\u001b[0m\u001b[1;33m=\u001b[0m\u001b[0mMyClass\u001b[0m\u001b[1;33m(\u001b[0m\u001b[1;33m)\u001b[0m\u001b[1;33m\u001b[0m\u001b[0m\n\u001b[1;32m----> 7\u001b[1;33m \u001b[0mprint\u001b[0m\u001b[1;33m(\u001b[0m\u001b[0mmc\u001b[0m\u001b[1;33m.\u001b[0m\u001b[0m__superprivate\u001b[0m\u001b[1;33m)\u001b[0m\u001b[1;33m\u001b[0m\u001b[0m\n\u001b[0m",
      "\u001b[1;31mAttributeError\u001b[0m: 'MyClass' object has no attribute '__superprivate'"
     ]
    }
   ],
   "source": [
    "class MyClass():\n",
    "    def __init__(self):\n",
    "        self.__superprivate=\"Hello\"\n",
    "        self._semiprivate=\", world!\"\n",
    "\n",
    "mc=MyClass()\n",
    "print(mc.__superprivate)"
   ]
  },
  {
   "cell_type": "code",
   "execution_count": 14,
   "metadata": {},
   "outputs": [
    {
     "name": "stdout",
     "output_type": "stream",
     "text": [
      ", world!\n"
     ]
    }
   ],
   "source": [
    "print(mc._semiprivate)"
   ]
  },
  {
   "cell_type": "code",
   "execution_count": 15,
   "metadata": {},
   "outputs": [
    {
     "name": "stdout",
     "output_type": "stream",
     "text": [
      "{'_MyClass__superprivate': 'Hello', '_semiprivate': ', world!'}\n"
     ]
    }
   ],
   "source": [
    "print(mc.__dict__)"
   ]
  },
  {
   "cell_type": "markdown",
   "metadata": {},
   "source": [
    "`__foo__`:一种约定,Python内部的名字,用来区别其他用户自定义的命名,以防冲突.\n",
    "\n",
    "`_foo`:一种约定,用来指定变量私有.程序员用来指定私有变量的一种方式.\n",
    "\n",
    "`__foo`:这个有真正的意义:解析器用_classname__foo来代替这个名字,以区别和其他类相同的命名."
   ]
  },
  {
   "cell_type": "markdown",
   "metadata": {},
   "source": [
    "单下划线开头，这个被常用于模块中，在一个模块中**以单下划线开头的变量和函数**被默认当作**内部函数**，如果**使用 from a_module import * 导入时，这部分变量和函数不会被导入**。不过值得注意的是，如果***使用 import a_module 这样导入模块，仍然可以用 a_module._some_var 这样的形式访问到这样的对象。***\n",
    "\n",
    "单下划线结尾的样式，这在解析时并没有特别的含义，但通常用于和 Python 关键词区分开来，比如**如果我们需要一个变量叫做 class，但 class 是 Python 的关键词，就可以以单下划线结尾写作 class_。**\n",
    "\n",
    "**双下划线开头**的命名形式**在 Python 的类成员中使用表示名字改编 (Name Mangling)**，即如果有一 Test 类里有一成员 `__x`，那么 dir(Test) 时会看到 _Test__x 而非 __x。这是**为了避免该成员的名称与子类中的名称冲突**。但要注意这要求该名称末尾没有下划线。\n",
    "\n",
    "**双下划线开头双下划线结尾**的是一些 Python 的“魔术”对象，如类成员的 __init__、__del__、__add__、__getitem__ 等，以及全局的 __file__、__name__ 等。 Python 官方推荐永远不要将这样的命名方式应用于自己的变量或函数，而是按照文档说明来使用。\n",
    "\n",
    "另外单下划线开头还有一种一般不会用到的情况在于使用一个 C 编写的扩展库有时会用下划线开头命名，然后使用一个去掉下划线的 Python 模块进行包装。如 struct 这个模块实际上是 C 模块 _struct 的一个 Python 包装。"
   ]
  },
  {
   "cell_type": "markdown",
   "metadata": {},
   "source": [
    "## 字符串格式化：%和.format\n",
    "\n",
    "format在许多方面看起来更便利.对于%最烦人的是它无法同时传递一个变量和元组"
   ]
  },
  {
   "cell_type": "code",
   "execution_count": 17,
   "metadata": {},
   "outputs": [
    {
     "ename": "TypeError",
     "evalue": "not all arguments converted during string formatting",
     "output_type": "error",
     "traceback": [
      "\u001b[1;31m---------------------------------------------------------------------------\u001b[0m",
      "\u001b[1;31mTypeError\u001b[0m                                 Traceback (most recent call last)",
      "\u001b[1;32m<ipython-input-17-f16e173fbafa>\u001b[0m in \u001b[0;36m<module>\u001b[1;34m()\u001b[0m\n\u001b[0;32m      1\u001b[0m \u001b[0mname\u001b[0m\u001b[1;33m=\u001b[0m\u001b[1;33m(\u001b[0m\u001b[1;36m1\u001b[0m\u001b[1;33m,\u001b[0m\u001b[1;36m2\u001b[0m\u001b[1;33m,\u001b[0m\u001b[1;36m3\u001b[0m\u001b[1;33m)\u001b[0m\u001b[1;33m\u001b[0m\u001b[0m\n\u001b[1;32m----> 2\u001b[1;33m \u001b[0mprint\u001b[0m\u001b[1;33m(\u001b[0m\u001b[1;34m\"hi there %s\"\u001b[0m \u001b[1;33m%\u001b[0m\u001b[0mname\u001b[0m\u001b[1;33m)\u001b[0m\u001b[1;33m\u001b[0m\u001b[0m\n\u001b[0m",
      "\u001b[1;31mTypeError\u001b[0m: not all arguments converted during string formatting"
     ]
    }
   ],
   "source": [
    "name=(1,2,3)\n",
    "print(\"hi there %s\" %name)"
   ]
  },
  {
   "cell_type": "code",
   "execution_count": 16,
   "metadata": {},
   "outputs": [
    {
     "name": "stdout",
     "output_type": "stream",
     "text": [
      "hi there (1, 2, 3)\n"
     ]
    }
   ],
   "source": [
    "name=(1,2,3)\n",
    "print(\"hi there %s\" %(name,)) #提供一个单元素的数组而不是一个参数"
   ]
  },
  {
   "cell_type": "markdown",
   "metadata": {},
   "source": [
    "## 迭代器和生成器\n",
    "\n",
    "在Python中，这种一边循环一边计算的机制，称为生成器：generator。\n",
    "可以被next()函数调用并不断返回下一个值的对象称为迭代器：Iterator。"
   ]
  },
  {
   "cell_type": "code",
   "execution_count": null,
   "metadata": {},
   "outputs": [],
   "source": []
  }
 ],
 "metadata": {
  "kernelspec": {
   "display_name": "Python 3",
   "language": "python",
   "name": "python3"
  },
  "language_info": {
   "codemirror_mode": {
    "name": "ipython",
    "version": 3
   },
   "file_extension": ".py",
   "mimetype": "text/x-python",
   "name": "python",
   "nbconvert_exporter": "python",
   "pygments_lexer": "ipython3",
   "version": "3.6.5"
  },
  "toc": {
   "base_numbering": 1,
   "nav_menu": {},
   "number_sections": true,
   "sideBar": true,
   "skip_h1_title": false,
   "title_cell": "Table of Contents",
   "title_sidebar": "Contents",
   "toc_cell": false,
   "toc_position": {},
   "toc_section_display": true,
   "toc_window_display": false
  }
 },
 "nbformat": 4,
 "nbformat_minor": 2
}

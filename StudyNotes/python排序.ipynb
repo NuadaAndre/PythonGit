{
 "cells": [
  {
   "cell_type": "markdown",
   "metadata": {},
   "source": [
    "# python排序"
   ]
  },
  {
   "cell_type": "markdown",
   "metadata": {},
   "source": [
    "## [].sort排序"
   ]
  },
  {
   "cell_type": "markdown",
   "metadata": {},
   "source": [
    "默认的自然排序，效率还不错"
   ]
  },
  {
   "cell_type": "markdown",
   "metadata": {},
   "source": [
    "## 自定义函数排序"
   ]
  },
  {
   "cell_type": "markdown",
   "metadata": {},
   "source": [
    "列表排序的顺序只是适用自然顺序，很多时候，你需要特定的顺序。比如需要排序的字段不是第一个字符。\n",
    "\n",
    "`cmp()`就是`[].sort()`的默认比较函数（**在速度上'list.sort()'远远超过'list.sort(cmp)'**）。对于不太长的列表使用自定义比较函数可以快速的解决问题。在很多情况下，甚至可以直接使用一个'lambda'表达式来完成任务。\n",
    "\n",
    "说到速度，使用自定义比较函数效率会很低。部分原因是**Python的函数调用开销，函数本身也会增加花费的时间**。不过有一种技术“Schwartzian转换”可以加速这种自定义排序。"
   ]
  },
  {
   "cell_type": "markdown",
   "metadata": {},
   "source": [
    "# Schwartzian变换原理"
   ]
  },
  {
   "cell_type": "markdown",
   "metadata": {},
   "source": [
    "使用Schwartzian转换主要包括三个步骤，（准确的来说这是Guttman-Rosler转换(GRT)，同样基于Schwartzian转换）"
   ]
  },
  {
   "cell_type": "markdown",
   "metadata": {},
   "source": [
    "1.将列表转换为可以用默认排序的列表\n",
    "\n",
    "2.使用`[].sort()`排序\n",
    "\n",
    "3.转回原先的格式"
   ]
  },
  {
   "cell_type": "markdown",
   "metadata": {},
   "source": [
    "核心是**将需要排序的对象转为一个能进行自然排序的字符串**，任务里排序时间是主要因素的话，使用这项技术将大大提高效率（唯一的限制就是转换花费的时间不会很多）"
   ]
  },
  {
   "cell_type": "code",
   "execution_count": null,
   "metadata": {},
   "outputs": [],
   "source": [
    "import sys,string,time,datatime\n",
    "wrerr=sys.stderr.write\n",
    "def get_Time(str):\n",
    "    print(len(str))\n",
    "    print(str)\n",
    "    time=datetime.datetime.strprime(str,'%d%b%Y:%H:%M:%S')\n",
    "    return time.strftime(\"%Y%m%d%H%M%S\")\n",
    "\n",
    "lines=open(sys.argv[1]).readlines()\n",
    "start=time.time()\n",
    "for n in range(len(lines)):\n",
    "    lst=string.split(lines[n])\n",
    "    lines[n]=(get_Time(lines[n][:20]),lines[n])\n",
    "lines.sort()\n",
    "for n in range(len(lines)):\n",
    "    lines[n]=lines[n][1]\n",
    "end=time.time()\n",
    "wrerr(\"Schwartzian transform sort in %3.2f secs\\n\" %(end-start))\n",
    "open('time.schwartzian','w').writelines(lines)"
   ]
  },
  {
   "cell_type": "markdown",
   "metadata": {},
   "source": [
    "核心在于get_Time函数，讲时间转换为可以自然排序的字符串。"
   ]
  },
  {
   "cell_type": "markdown",
   "metadata": {},
   "source": [
    "# python排序"
   ]
  },
  {
   "cell_type": "markdown",
   "metadata": {},
   "source": [
    "使用列表本身的方法**list.sort()**去排序。它会改变list的内容，然后返回None作为执行的结果，以避免混淆。一般来说它没有sorted()那么方便，但是如果你不需要原来的列表的话，使用它在**性能上会有轻微的提升**。"
   ]
  },
  {
   "cell_type": "markdown",
   "metadata": {},
   "source": [
    "**list.sort()方法只能用于列表，相对的，sorted()函数则适用于所有的可迭代对象**"
   ]
  },
  {
   "cell_type": "code",
   "execution_count": 6,
   "metadata": {},
   "outputs": [
    {
     "data": {
      "text/plain": [
       "[1, 2, 3, 4, 5]"
      ]
     },
     "execution_count": 6,
     "metadata": {},
     "output_type": "execute_result"
    }
   ],
   "source": [
    "sorted({1:'D',2:'B',3:'B',4:'E',5:'A'})"
   ]
  },
  {
   "cell_type": "markdown",
   "metadata": {},
   "source": [
    "key参数对应的值，必须是这样一个函数：接受一个参数然后返回一个用来排序的键。用这种技术来排序在速度上是非常快的，因为**key函数恰好被每一个输入记录调用一次。**"
   ]
  },
  {
   "cell_type": "code",
   "execution_count": 1,
   "metadata": {},
   "outputs": [],
   "source": [
    "student_tuples=[('john','A',15),('jane','B',12),('dave','B',10)]"
   ]
  },
  {
   "cell_type": "code",
   "execution_count": 2,
   "metadata": {},
   "outputs": [
    {
     "data": {
      "text/plain": [
       "[('dave', 'B', 10), ('jane', 'B', 12), ('john', 'A', 15)]"
      ]
     },
     "execution_count": 2,
     "metadata": {},
     "output_type": "execute_result"
    }
   ],
   "source": [
    "sorted(student_tuples,key=lambda student:student[2])"
   ]
  },
  {
   "cell_type": "code",
   "execution_count": 3,
   "metadata": {},
   "outputs": [],
   "source": [
    "class Student:\n",
    "    def __init__(self,name,grade,age):\n",
    "        self.name=name\n",
    "        self.grade=grade\n",
    "        self.age=age\n",
    "    def __repr__(self):\n",
    "        return repr((self.name,self.grade,self.age))"
   ]
  },
  {
   "cell_type": "code",
   "execution_count": 4,
   "metadata": {},
   "outputs": [],
   "source": [
    "student_objects=[Student('john','A',15),Student('jane','B',12),Student('dave','B',10)]"
   ]
  },
  {
   "cell_type": "code",
   "execution_count": 5,
   "metadata": {},
   "outputs": [
    {
     "data": {
      "text/plain": [
       "[('dave', 'B', 10), ('jane', 'B', 12), ('john', 'A', 15)]"
      ]
     },
     "execution_count": 5,
     "metadata": {},
     "output_type": "execute_result"
    }
   ],
   "source": [
    "sorted(student_objects,key=lambda student:student.age)"
   ]
  },
  {
   "cell_type": "markdown",
   "metadata": {},
   "source": [
    "key函数不一定要直接基于被排序的对象。**key函数同样可以访问外部的资源**。"
   ]
  },
  {
   "cell_type": "code",
   "execution_count": 17,
   "metadata": {},
   "outputs": [
    {
     "data": {
      "text/plain": [
       "['jane', 'dave', 'john']"
      ]
     },
     "execution_count": 17,
     "metadata": {},
     "output_type": "execute_result"
    }
   ],
   "source": [
    "students=['dave','john','jane']\n",
    "grades={'john':'F','jane':'A','dave':'C'}\n",
    "sorted(students,key=grades.__getitem__)"
   ]
  },
  {
   "cell_type": "markdown",
   "metadata": {},
   "source": [
    "Python本身也提供了很多很方便的函数，让创建访问器函数变得更快、更容易。**operater模块提供的函数有operator.itemgetter()，operator.attrgetter()，operator.methodcaller()函数。**"
   ]
  },
  {
   "cell_type": "markdown",
   "metadata": {},
   "source": [
    "operator模块提供的几个函数**允许多级别的排序**"
   ]
  },
  {
   "cell_type": "code",
   "execution_count": 10,
   "metadata": {},
   "outputs": [
    {
     "data": {
      "text/plain": [
       "[('john', 'A', 15), ('dave', 'B', 10), ('jane', 'B', 12)]"
      ]
     },
     "execution_count": 10,
     "metadata": {},
     "output_type": "execute_result"
    }
   ],
   "source": [
    "from operator import itemgetter,attrgetter\n",
    "sorted(student_tuples, key=itemgetter(1,2))"
   ]
  },
  {
   "cell_type": "code",
   "execution_count": 11,
   "metadata": {},
   "outputs": [
    {
     "data": {
      "text/plain": [
       "[('john', 'A', 15), ('dave', 'B', 10), ('jane', 'B', 12)]"
      ]
     },
     "execution_count": 11,
     "metadata": {},
     "output_type": "execute_result"
    }
   ],
   "source": [
    "sorted(student_objects, key=attrgetter('grade','age'))"
   ]
  },
  {
   "cell_type": "markdown",
   "metadata": {},
   "source": [
    "operator.methodcaller()函数会**在每个被排序的对象上执行一个固定参数的方法调用**"
   ]
  },
  {
   "cell_type": "code",
   "execution_count": 13,
   "metadata": {},
   "outputs": [
    {
     "data": {
      "text/plain": [
       "['standby', 'hurry!', 'immediate!!', 'critical!!!']"
      ]
     },
     "execution_count": 13,
     "metadata": {},
     "output_type": "execute_result"
    }
   ],
   "source": [
    "from operator import methodcaller\n",
    "messages=['critical!!!', 'hurry!', 'standby', 'immediate!!']\n",
    "sorted(messages, key=methodcaller('count', '!'))"
   ]
  },
  {
   "cell_type": "markdown",
   "metadata": {},
   "source": [
    "**排序都是稳定**\n",
    "\n",
    "**Python的Timsort算法可以高效率地进行多重排序，因为它能很好的利用数据集中已经存在的有序序列。**"
   ]
  },
  {
   "cell_type": "markdown",
   "metadata": {},
   "source": [
    "# 使用decorate-sort-undecorated方法"
   ]
  },
  {
   "cell_type": "markdown",
   "metadata": {},
   "source": [
    "这个习语是以它的三个步骤而被命名为decorate-sort-undecorate（装饰-排序-去装饰）的"
   ]
  },
  {
   "cell_type": "markdown",
   "metadata": {},
   "source": [
    "1.原始的列表被装饰以生成新的值，这些值是用来控制排序顺序的。\n",
    "\n",
    "2.对被装饰过的列表进行排序。\n",
    "\n",
    "3.去掉装饰，以新的顺序创建一个列表，这个列表只包含原来列表中的值。"
   ]
  },
  {
   "cell_type": "code",
   "execution_count": 15,
   "metadata": {},
   "outputs": [
    {
     "data": {
      "text/plain": [
       "[('john', 'A', 15), ('jane', 'B', 12), ('dave', 'B', 10)]"
      ]
     },
     "execution_count": 15,
     "metadata": {},
     "output_type": "execute_result"
    }
   ],
   "source": [
    "decorated = [(student.grade, i, student) for i, student in enumerate(student_objects)]\n",
    "decorated.sort()\n",
    "[student for grade, i, student in decorated] "
   ]
  },
  {
   "cell_type": "markdown",
   "metadata": {},
   "source": [
    "在这里，元组是按照字典序进行比较的，首先第一项被比较，如果他们相等则对第二项进行比较，以此类推。\n",
    "\n",
    "不是在所有的情况下都需要在被装饰的列表中包含下标i，但是包含它会有两个好处：让排序稳定——如果两个项拥有一样的键，那么他们在排序列表中的顺序不会改变。\n",
    "\n",
    "原始的项不需要是可对比的，因为被装饰的元组的顺序最多被前面两个项决定。举个例子，原始列表可以包含不能直接排序的复数。"
   ]
  },
  {
   "cell_type": "markdown",
   "metadata": {},
   "source": [
    "对于大型的列表，以及那些计算对比关系的代价很昂贵的列表来说，*在Python的2.4版本之前，DSU几乎是排序这类列表的最快的方法。但是在2.4及之后的版本，key函数就提供了一样的功能了。*"
   ]
  }
 ],
 "metadata": {
  "kernelspec": {
   "display_name": "Python 3",
   "language": "python",
   "name": "python3"
  },
  "language_info": {
   "codemirror_mode": {
    "name": "ipython",
    "version": 3
   },
   "file_extension": ".py",
   "mimetype": "text/x-python",
   "name": "python",
   "nbconvert_exporter": "python",
   "pygments_lexer": "ipython3",
   "version": "3.6.5"
  },
  "toc": {
   "base_numbering": 1,
   "nav_menu": {},
   "number_sections": true,
   "sideBar": true,
   "skip_h1_title": false,
   "title_cell": "Table of Contents",
   "title_sidebar": "Contents",
   "toc_cell": false,
   "toc_position": {},
   "toc_section_display": true,
   "toc_window_display": false
  }
 },
 "nbformat": 4,
 "nbformat_minor": 2
}
